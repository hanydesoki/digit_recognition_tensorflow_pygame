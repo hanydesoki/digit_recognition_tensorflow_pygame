{
 "cells": [
  {
   "cell_type": "code",
   "execution_count": 1,
   "id": "42451ef6",
   "metadata": {},
   "outputs": [],
   "source": [
    "import numpy as np\n",
    "from sklearn.metrics import accuracy_score\n",
    "from matplotlib import pyplot as plt\n",
    "%matplotlib inline\n",
    "import tensorflow as tf\n",
    "import random\n",
    "import keras\n",
    "from keras import layers"
   ]
  },
  {
   "cell_type": "markdown",
   "id": "ff1b9514",
   "metadata": {},
   "source": [
    "## Classe de chargement de données"
   ]
  },
  {
   "cell_type": "code",
   "execution_count": 2,
   "id": "01fbc608",
   "metadata": {},
   "outputs": [],
   "source": [
    "class Load_mnist:\n",
    "    \n",
    "    def __init__(self, normalized=False, shuffled=False, random_state=None):\n",
    "        (self.X_train, self.y_train), (self.X_test, self.y_test) = keras.datasets.mnist.load_data()\n",
    "        self.X_train = self.X_train.astype('float32')\n",
    "        self.X_test = self.X_test.astype('float32')\n",
    "        self.y_train = self.y_train.astype('float32')\n",
    "        self.y_test = self.y_test.astype('float32')\n",
    "        \n",
    "        self.normalized = normalized\n",
    "        self.shuffled = shuffled\n",
    "        if self.normalized:\n",
    "            self.normalize()\n",
    "        if self.shuffled:\n",
    "            self.shuffle(random_state=random_state)\n",
    "        \n",
    "    def normalize(self):\n",
    "        self.X_train = self.X_train / 255\n",
    "        self.X_test = self.X_test / 255\n",
    "        self.normalized = True\n",
    "        \n",
    "    def shuffle(self, random_state=None):\n",
    "        self.X_train, self.y_train = self.unison_shuffled_copies(self.X_train, self.y_train, random_state=random_state)\n",
    "        self.X_test, self.y_test = self.unison_shuffled_copies(self.X_test, self.y_test, random_state=random_state)\n",
    "        self.shuffled = True\n",
    "        \n",
    "    def show_number(self, number=None, set_='train'):\n",
    "        if set_ == 'train':\n",
    "            X = self.X_train.copy()\n",
    "            y = self.y_train.copy()\n",
    "        elif set_ == 'test':\n",
    "            X = self.X_test.copy()\n",
    "            y = self.y_test.copy()\n",
    "            \n",
    "        if number is None:\n",
    "            number = np.random.randint(0, 10)\n",
    "\n",
    "        plt.figure()\n",
    "        mask = y == number\n",
    "        image = random.choice(X[mask])\n",
    "        plt.imshow(image, cmap='gray')\n",
    "        \n",
    "    def get_datas(self):\n",
    "        return self.X_train, self.X_test, self.y_train, self.y_test\n",
    "        \n",
    "    def __repr__(self):\n",
    "        return f\"\"\"Data_mnist(shapes=(X_train: {self.X_train.shape}\n",
    "                    y_train: {self.y_train.shape}\n",
    "                    X_test: {self.X_test.shape}\n",
    "                    y_test: {self.y_test.shape}),\n",
    "        normalized={self.normalized}, shuffled={self.shuffled}) object\"\"\"\n",
    "    \n",
    "    @staticmethod\n",
    "    def unison_shuffled_copies(a, b, random_state=None):\n",
    "        if random_state is not None:\n",
    "            np.random.seed(random_state)\n",
    "        assert len(a) == len(b)\n",
    "        p = np.random.permutation(len(a))\n",
    "        return a[p], b[p]\n",
    "    \n",
    "    @staticmethod\n",
    "    def split(X, y, val_size=0.2):\n",
    "        m = int(X.shape[0]*val_size)\n",
    "        X_train, X_val = X[:-m], X[-m:]\n",
    "        y_train, y_val = y[:-m], y[-m:]\n",
    "        \n",
    "        return X_train, X_val, y_train, y_val"
   ]
  },
  {
   "cell_type": "markdown",
   "id": "e705e26a",
   "metadata": {},
   "source": [
    "## Chargement des données"
   ]
  },
  {
   "cell_type": "code",
   "execution_count": 3,
   "id": "4ae13f4c",
   "metadata": {},
   "outputs": [
    {
     "data": {
      "text/plain": [
       "Data_mnist(shapes=(X_train: (60000, 28, 28)\n",
       "                    y_train: (60000,)\n",
       "                    X_test: (10000, 28, 28)\n",
       "                    y_test: (10000,)),\n",
       "        normalized=True, shuffled=True) object"
      ]
     },
     "execution_count": 3,
     "metadata": {},
     "output_type": "execute_result"
    }
   ],
   "source": [
    "data_obj = Load_mnist(normalized=True, shuffled=True, random_state=0)\n",
    "data_obj"
   ]
  },
  {
   "cell_type": "code",
   "execution_count": 4,
   "id": "b5d62b1b",
   "metadata": {},
   "outputs": [],
   "source": [
    "X_train, X_test, y_train, y_test = data_obj.get_datas()"
   ]
  },
  {
   "cell_type": "markdown",
   "id": "a3f6c083",
   "metadata": {},
   "source": [
    "## Préparation des données"
   ]
  },
  {
   "cell_type": "code",
   "execution_count": 5,
   "id": "7bd4c770",
   "metadata": {},
   "outputs": [
    {
     "name": "stdout",
     "output_type": "stream",
     "text": [
      "X_train shape: (60000, 28, 28, 1)\n",
      "60000 train samples\n",
      "10000 test samples\n"
     ]
    }
   ],
   "source": [
    "num_classes = len(np.unique(y_train))\n",
    "input_shape = (28, 28, 1)\n",
    "\n",
    "# Assure que les données d'entrée sont de taille 28x28\n",
    "X_train = np.expand_dims(X_train, -1)\n",
    "X_test = np.expand_dims(X_test, -1)\n",
    "print(\"X_train shape:\", X_train.shape)\n",
    "print(X_train.shape[0], \"train samples\")\n",
    "print(X_test.shape[0], \"test samples\")\n",
    "\n",
    "# OneHot sur les y\n",
    "y_train = keras.utils.to_categorical(y_train, num_classes)\n",
    "y_test = keras.utils.to_categorical(y_test, num_classes)"
   ]
  },
  {
   "cell_type": "markdown",
   "id": "7b0e8054",
   "metadata": {},
   "source": [
    "## Exemple donnée"
   ]
  },
  {
   "cell_type": "code",
   "execution_count": 6,
   "id": "c6bf516d",
   "metadata": {},
   "outputs": [
    {
     "data": {
      "image/png": "[encoded data removed]",
      "text/plain": [
       "<Figure size 432x288 with 1 Axes>"
      ]
     },
     "metadata": {
      "needs_background": "light"
     },
     "output_type": "display_data"
    }
   ],
   "source": [
    "data_obj.show_number(8)"
   ]
  },
  {
   "cell_type": "markdown",
   "id": "ea690170",
   "metadata": {},
   "source": [
    "## Construction du modèle"
   ]
  },
  {
   "cell_type": "code",
   "execution_count": 7,
   "id": "57682896",
   "metadata": {},
   "outputs": [
    {
     "name": "stdout",
     "output_type": "stream",
     "text": [
      "Model: \"sequential\"\n",
      "_________________________________________________________________\n",
      "Layer (type)                 Output Shape              Param #   \n",
      "=================================================================\n",
      "conv2d (Conv2D)              (None, 26, 26, 32)        320       \n",
      "_________________________________________________________________\n",
      "max_pooling2d (MaxPooling2D) (None, 13, 13, 32)        0         \n",
      "_________________________________________________________________\n",
      "conv2d_1 (Conv2D)            (None, 11, 11, 64)        18496     \n",
      "_________________________________________________________________\n",
      "max_pooling2d_1 (MaxPooling2 (None, 5, 5, 64)          0         \n",
      "_________________________________________________________________\n",
      "flatten (Flatten)            (None, 1600)              0         \n",
      "_________________________________________________________________\n",
      "dropout (Dropout)            (None, 1600)              0         \n",
      "_________________________________________________________________\n",
      "dense (Dense)                (None, 10)                16010     \n",
      "=================================================================\n",
      "Total params: 34,826\n",
      "Trainable params: 34,826\n",
      "Non-trainable params: 0\n",
      "_________________________________________________________________\n"
     ]
    }
   ],
   "source": [
    "model = keras.Sequential(\n",
    "    [\n",
    "        keras.Input(shape=input_shape),\n",
    "        layers.Conv2D(32, kernel_size=(3, 3), activation=\"relu\"),\n",
    "        layers.MaxPooling2D(pool_size=(2, 2)),\n",
    "        layers.Conv2D(64, kernel_size=(3, 3), activation=\"relu\"),\n",
    "        layers.MaxPooling2D(pool_size=(2, 2)),\n",
    "        layers.Flatten(),\n",
    "        layers.Dropout(0.5),\n",
    "        layers.Dense(num_classes, activation=\"softmax\"),\n",
    "    ]\n",
    ")\n",
    "\n",
    "model.summary()"
   ]
  },
  {
   "cell_type": "code",
   "execution_count": 8,
   "id": "34902525",
   "metadata": {},
   "outputs": [
    {
     "name": "stdout",
     "output_type": "stream",
     "text": [
      "Epoch 1/15\n",
      "422/422 [==============================] - 30s 71ms/step - loss: 0.3726 - accuracy: 0.8888 - val_loss: 0.1030 - val_accuracy: 0.9685\n",
      "Epoch 2/15\n",
      "422/422 [==============================] - 33s 78ms/step - loss: 0.1163 - accuracy: 0.9651 - val_loss: 0.0726 - val_accuracy: 0.9780\n",
      "Epoch 3/15\n",
      "422/422 [==============================] - 30s 72ms/step - loss: 0.0868 - accuracy: 0.9732 - val_loss: 0.0541 - val_accuracy: 0.9840\n",
      "Epoch 4/15\n",
      "422/422 [==============================] - 30s 71ms/step - loss: 0.0727 - accuracy: 0.9768 - val_loss: 0.0497 - val_accuracy: 0.9855\n",
      "Epoch 5/15\n",
      "422/422 [==============================] - 30s 71ms/step - loss: 0.0642 - accuracy: 0.9798 - val_loss: 0.0457 - val_accuracy: 0.9868\n",
      "Epoch 6/15\n",
      "422/422 [==============================] - 30s 71ms/step - loss: 0.0563 - accuracy: 0.9829 - val_loss: 0.0432 - val_accuracy: 0.9880\n",
      "Epoch 7/15\n",
      "422/422 [==============================] - 30s 71ms/step - loss: 0.0536 - accuracy: 0.9834 - val_loss: 0.0405 - val_accuracy: 0.9870\n",
      "Epoch 8/15\n",
      "422/422 [==============================] - 30s 71ms/step - loss: 0.0478 - accuracy: 0.9855 - val_loss: 0.0376 - val_accuracy: 0.9882\n",
      "Epoch 9/15\n",
      "422/422 [==============================] - 30s 71ms/step - loss: 0.0458 - accuracy: 0.9853 - val_loss: 0.0351 - val_accuracy: 0.9887\n",
      "Epoch 10/15\n",
      "422/422 [==============================] - 30s 71ms/step - loss: 0.0434 - accuracy: 0.9862 - val_loss: 0.0327 - val_accuracy: 0.9897\n",
      "Epoch 11/15\n",
      "422/422 [==============================] - 30s 70ms/step - loss: 0.0403 - accuracy: 0.9876 - val_loss: 0.0340 - val_accuracy: 0.9895\n",
      "Epoch 12/15\n",
      "422/422 [==============================] - 30s 70ms/step - loss: 0.0381 - accuracy: 0.9880 - val_loss: 0.0309 - val_accuracy: 0.9900\n",
      "Epoch 13/15\n",
      "422/422 [==============================] - 30s 70ms/step - loss: 0.0366 - accuracy: 0.9884 - val_loss: 0.0313 - val_accuracy: 0.9905\n",
      "Epoch 14/15\n",
      "422/422 [==============================] - 30s 71ms/step - loss: 0.0333 - accuracy: 0.9886 - val_loss: 0.0292 - val_accuracy: 0.9912\n",
      "Epoch 15/15\n",
      "422/422 [==============================] - 30s 71ms/step - loss: 0.0324 - accuracy: 0.9898 - val_loss: 0.0313 - val_accuracy: 0.9902\n"
     ]
    },
    {
     "data": {
      "text/plain": [
       "<tensorflow.python.keras.callbacks.History at 0x2b3804f8e50>"
      ]
     },
     "execution_count": 8,
     "metadata": {},
     "output_type": "execute_result"
    }
   ],
   "source": [
    "batch_size = 128\n",
    "epochs = 15\n",
    "\n",
    "model.compile(loss=\"categorical_crossentropy\", optimizer=\"adam\", metrics=[\"accuracy\"])\n",
    "\n",
    "model.fit(X_train, y_train, batch_size=batch_size, epochs=epochs, validation_split=0.1)"
   ]
  },
  {
   "cell_type": "code",
   "execution_count": 9,
   "id": "346d14cd",
   "metadata": {},
   "outputs": [
    {
     "name": "stdout",
     "output_type": "stream",
     "text": [
      "Test loss: 0.028662484139204025\n",
      "Test accuracy: 0.9902999997138977\n"
     ]
    }
   ],
   "source": [
    "score = model.evaluate(X_test, y_test, verbose=0)\n",
    "print(\"Test loss:\", score[0])\n",
    "print(\"Test accuracy:\", score[1])"
   ]
  },
  {
   "cell_type": "code",
   "execution_count": 11,
   "id": "098f15ac",
   "metadata": {},
   "outputs": [],
   "source": [
    "model.save(r'C:\\Users\\Hany\\Desktop\\Cours_Python\\Reconnaissance_chiffre\\model_mnist.h5')"
   ]
  },
  {
   "cell_type": "code",
   "execution_count": null,
   "id": "252c2d25",
   "metadata": {},
   "outputs": [],
   "source": []
  }
 ],
 "metadata": {
  "kernelspec": {
   "display_name": "Python 3",
   "language": "python",
   "name": "python3"
  },
  "language_info": {
   "codemirror_mode": {
    "name": "ipython",
    "version": 3
   },
   "file_extension": ".py",
   "mimetype": "text/x-python",
   "name": "python",
   "nbconvert_exporter": "python",
   "pygments_lexer": "ipython3",
   "version": "3.8.10"
  }
 },
 "nbformat": 4,
 "nbformat_minor": 5
}
